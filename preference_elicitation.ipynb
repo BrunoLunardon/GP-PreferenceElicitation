{
 "cells": [
  {
   "cell_type": "code",
   "execution_count": 103,
   "metadata": {},
   "outputs": [
    {
     "name": "stdout",
     "output_type": "stream",
     "text": [
      "Item features shape: (10, 16)\n",
      "User features shape: (5000, 128)\n"
     ]
    }
   ],
   "source": [
    "import pandas as pd\n",
    "\n",
    "# Load the item data\n",
    "item_data_path = 'data/sushi3-2016/sushi3.idata'\n",
    "item_columns = ['item_id', 'name', 'style', 'major_group', 'minor_group', 'heaviness', 'consumption_frequency', 'normalized_price', 'sell_frequency']\n",
    "item_df = pd.read_csv(item_data_path, sep='\\t', header=None, names=item_columns)\n",
    "\n",
    "# Filter the item data to include only the 10 items used in the paper\n",
    "item_set_A_ids = [0, 1, 2, 3, 4, 6, 7, 8, 26, 29]\n",
    "#item_set_A_ids=[i for i in range(100)]\n",
    "item_set_A_df = item_df[item_df['item_id'].isin(item_set_A_ids)]\n",
    "\n",
    "# Preprocess the item features\n",
    "categorical_features = ['style', 'major_group', 'minor_group']\n",
    "numerical_features = ['heaviness', 'consumption_frequency', 'normalized_price', 'sell_frequency']\n",
    "\n",
    "# Convert categorical features to strings to ensure get_dummies works correctly\n",
    "\n",
    "item_features = pd.get_dummies(item_set_A_df[categorical_features].astype(str))\n",
    "item_features = pd.concat([item_features, item_set_A_df[numerical_features]], axis=1)\n",
    "\n",
    "# Display the preprocessed item features\n",
    "print(\"Item features shape:\", item_features.shape)\n",
    "\n",
    "# Load the user data\n",
    "user_data_path = 'data/sushi3-2016/sushi3.udata'\n",
    "user_columns = ['user_id', 'gender', 'age', 'total_time', 'prefecture_longest', 'region_longest', 'east_west_longest', 'prefecture_current', 'region_current', 'east_west_current', 'prefecture_diff']\n",
    "user_df = pd.read_csv(user_data_path, sep='\\t', header=None, names=user_columns)\n",
    "\n",
    "# Preprocess the user features\n",
    "categorical_features_user = ['gender', 'age', 'prefecture_longest', 'region_longest', 'east_west_longest', 'prefecture_current', 'region_current', 'east_west_current']\n",
    "\n",
    "# Convert categorical features to strings to ensure get_dummies works correctly\n",
    "user_df[categorical_features_user] = user_df[categorical_features_user].astype(str)\n",
    "\n",
    "user_features = pd.get_dummies(user_df[categorical_features_user])\n",
    "\n",
    "# Display the preprocessed user features\n",
    "print(\"User features shape:\", user_features.shape)\n"
   ]
  },
  {
   "cell_type": "markdown",
   "metadata": {},
   "source": [
    "# Carregando o arquivo de preferencias e removendo as duas primeiras colunas de metadados"
   ]
  },
  {
   "cell_type": "code",
   "execution_count": 102,
   "metadata": {},
   "outputs": [
    {
     "name": "stdout",
     "output_type": "stream",
     "text": [
      "(5000, 10)\n"
     ]
    }
   ],
   "source": [
    "import pandas as pd\n",
    "\n",
    "# Load and parse the preference order data manually\n",
    "preference_data_path = 'data/sushi3-2016/sushi3a.5000.10.order'\n",
    "with open(preference_data_path, 'r') as file:\n",
    "    lines = file.readlines()\n",
    "\n",
    "# Remove the first row which contains metadata\n",
    "lines = lines[1:]\n",
    "\n",
    "# Split each line into a list of preferences\n",
    "preference_data = [line.strip().split() for line in lines]\n",
    "\n",
    "# Convert to a DataFrame\n",
    "preference_df = pd.DataFrame(preference_data)\n",
    "\n",
    "# Convert all values to integers\n",
    "preference_df = preference_df.astype(int)\n",
    "\n",
    "# Rename columns for clarity\n",
    "preference_df.columns = [f'pref_{i}' for i in range(preference_df.shape[1])]\n",
    "\n",
    "# Display the processed preference data\n",
    "\n",
    "# Remove the first two columns if they contain metadata\n",
    "preference_df = preference_df.drop(columns=['pref_0', 'pref_1'])\n",
    "\n",
    "# Rename columns for clarity\n",
    "preference_df.columns = [f'pref_{i}' for i in range(preference_df.shape[1])]\n",
    "\n",
    "# Display the cleaned preference data\n",
    "print(preference_df.shape)"
   ]
  }
 ],
 "metadata": {
  "kernelspec": {
   "display_name": "Python 3",
   "language": "python",
   "name": "python3"
  },
  "language_info": {
   "codemirror_mode": {
    "name": "ipython",
    "version": 3
   },
   "file_extension": ".py",
   "mimetype": "text/x-python",
   "name": "python",
   "nbconvert_exporter": "python",
   "pygments_lexer": "ipython3",
   "version": "3.10.2"
  }
 },
 "nbformat": 4,
 "nbformat_minor": 2
}
